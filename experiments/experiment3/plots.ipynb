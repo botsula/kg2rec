{
 "cells": [
  {
   "cell_type": "code",
   "execution_count": 1,
   "metadata": {},
   "outputs": [],
   "source": [
    "import numpy as np\n",
    "import pandas as pd\n",
    "import matplotlib.pyplot as plt\n",
    "import numpy as np\n",
    "import matplotlib.pyplot as plt\n",
    "import seaborn as sns\n",
    "sns.set_theme(style=\"darkgrid\")"
   ]
  },
  {
   "cell_type": "code",
   "execution_count": 2,
   "metadata": {},
   "outputs": [],
   "source": [
    "models = [\n",
    "  \"KGAT\",\n",
    "  \"MKR\",\n",
    "  \"KGCN\",\n",
    "  \"CKE\",\n",
    "  \"RippleNet\",\n",
    "  \"ItemKNN\",\n",
    "  \"BPR\"\n",
    "]"
   ]
  },
  {
   "cell_type": "code",
   "execution_count": 4,
   "metadata": {},
   "outputs": [],
   "source": [
    "df = pd.read_csv('./data.csv', delimiter='\\t')"
   ]
  },
  {
   "cell_type": "code",
   "execution_count": 11,
   "metadata": {},
   "outputs": [
    {
     "name": "stdout",
     "output_type": "stream",
     "text": [
      "KGAT & 0.0038 s  & 0.0006 s \\\\ \n",
      "MKR & 5.6392 s  & 2.1323 s \\\\ \n",
      "KGCN & 0.4235 s  & 0.0033 s \\\\ \n",
      "CKE & 0.0026 s  & 0.0003 s \\\\ \n",
      "RippleNet & 0.2959 s  & 0.0019 s \\\\ \n",
      "ItemKNN & 0.0655 s  & 0.0008 s \\\\ \n",
      "BPR & 0.0025 s  & 0.0002 s \\\\ \n"
     ]
    }
   ],
   "source": [
    "for index, row in df.iterrows():\n",
    "  print(f\"{row['model']} & {round(row['mean'], 4)} s  & {round(row['std'], 4)} s \\\\\\ \")"
   ]
  },
  {
   "cell_type": "code",
   "execution_count": null,
   "metadata": {},
   "outputs": [],
   "source": []
  }
 ],
 "metadata": {
  "interpreter": {
   "hash": "916dbcbb3f70747c44a77c7bcd40155683ae19c65e1c03b4aa3499c5328201f1"
  },
  "kernelspec": {
   "display_name": "Python 3.8.10 64-bit",
   "language": "python",
   "name": "python3"
  },
  "language_info": {
   "codemirror_mode": {
    "name": "ipython",
    "version": 3
   },
   "file_extension": ".py",
   "mimetype": "text/x-python",
   "name": "python",
   "nbconvert_exporter": "python",
   "pygments_lexer": "ipython3",
   "version": "3.8.10"
  },
  "orig_nbformat": 4
 },
 "nbformat": 4,
 "nbformat_minor": 2
}
